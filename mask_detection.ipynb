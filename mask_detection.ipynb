{
 "cells": [
  {
   "cell_type": "code",
   "execution_count": 5,
   "id": "707e7d2c-eee7-4113-adfb-a90b40de8bb2",
   "metadata": {},
   "outputs": [],
   "source": [
    "import numpy as np\n",
    "import pandas as pd\n",
    "import matplotlib.pyplot as plt\n",
    "import os\n",
    "import xml.etree.ElementTree as ET\n",
    "import glob\n",
    "from PIL import Image\n",
    "from sklearn.model_selection import train_test_split\n",
    "from tensorflow.keras.models import Sequential\n",
    "from tensorflow.keras.layers import Conv2D, MaxPooling2D, Flatten, Dense, Dropout\n",
    "from tensorflow.keras.preprocessing.image import ImageDataGenerator\n",
    "from tensorflow.keras.callbacks import EarlyStopping, ReduceLROnPlateau\n",
    "from sklearn.metrics import confusion_matrix, classification_report\n",
    "from sklearn.metrics import precision_score, recall_score, accuracy_score,f1_score, classification_report\n",
    "import cv2\n",
    "import seaborn as sns \n",
    "\n",
    "\n",
    "input_data_path = \"D:/face_mask/images\"\n",
    "annotations_path = \"D:/face_mask/annotations\"\n",
    "images = [*os.listdir(input_data_path)]\n",
    "output_data_path =  '.'"
   ]
  },
  {
   "cell_type": "code",
   "execution_count": 6,
   "id": "7c474b6f-4cf7-47bf-9e15-7f9b6af4480b",
   "metadata": {},
   "outputs": [],
   "source": [
    "def parse_annotation(path):\n",
    "    tree = ET.parse(path)\n",
    "    root = tree.getroot()\n",
    "    constants = {}\n",
    "    objects = [child for child in root if child.tag == 'object']\n",
    "    for element in tree.iter():\n",
    "        if element.tag == 'filename':\n",
    "            constants['file'] = element.text[0:-4]\n",
    "        if element.tag == 'size':\n",
    "            for dim in list(element):\n",
    "                if dim.tag == 'width':\n",
    "                    constants['width'] = int(dim.text)\n",
    "                if dim.tag == 'height':\n",
    "                    constants['height'] = int(dim.text)\n",
    "                if dim.tag == 'depth':\n",
    "                    constants['depth'] = int(dim.text)\n",
    "    object_params = [parse_annotation_object(obj) for obj in objects]\n",
    "    #print(constants)\n",
    "    full_result = [merge(constants,ob) for ob in object_params]\n",
    "    return full_result\n",
    "\n",
    "def parse_annotation_object(annotation_object):\n",
    "    params = {}\n",
    "    for param in list(annotation_object):\n",
    "        if param.tag == 'name':\n",
    "            params['name'] = param.text\n",
    "        if param.tag == 'bndbox':\n",
    "            for coord in list(param):\n",
    "                if coord.tag == 'xmin':\n",
    "                    params['xmin'] = int(coord.text)              \n",
    "                if coord.tag == 'ymin':\n",
    "                    params['ymin'] = int(coord.text)\n",
    "                if coord.tag == 'xmax':\n",
    "                    params['xmax'] = int(coord.text)\n",
    "                if coord.tag == 'ymax':\n",
    "                    params['ymax'] = int(coord.text)\n",
    "            \n",
    "    return params       \n",
    " \n",
    "def merge(dict1, dict2):\n",
    "    res = {**dict1, **dict2}\n",
    "    return res"
   ]
  },
  {
   "cell_type": "code",
   "execution_count": 7,
   "id": "220426ff-1087-428f-9e29-0f721b18d458",
   "metadata": {},
   "outputs": [
    {
     "data": {
      "text/plain": [
       "(4072, 9)"
      ]
     },
     "execution_count": 7,
     "metadata": {},
     "output_type": "execute_result"
    }
   ],
   "source": [
    "dataset = [parse_annotation(anno) for anno in glob.glob(annotations_path+\"/*.xml\") ]\n",
    "\n",
    "full_dataset = sum(dataset, [])\n",
    "\n",
    "df = pd.DataFrame(full_dataset)\n",
    "df.shape"
   ]
  },
  {
   "cell_type": "code",
   "execution_count": 8,
   "id": "b6b34b0c-d427-48b6-9e4a-a6d0a191c17e",
   "metadata": {},
   "outputs": [
    {
     "data": {
      "text/html": [
       "<div>\n",
       "<style scoped>\n",
       "    .dataframe tbody tr th:only-of-type {\n",
       "        vertical-align: middle;\n",
       "    }\n",
       "\n",
       "    .dataframe tbody tr th {\n",
       "        vertical-align: top;\n",
       "    }\n",
       "\n",
       "    .dataframe thead th {\n",
       "        text-align: right;\n",
       "    }\n",
       "</style>\n",
       "<table border=\"1\" class=\"dataframe\">\n",
       "  <thead>\n",
       "    <tr style=\"text-align: right;\">\n",
       "      <th></th>\n",
       "      <th>file</th>\n",
       "      <th>width</th>\n",
       "      <th>height</th>\n",
       "      <th>depth</th>\n",
       "      <th>name</th>\n",
       "      <th>xmin</th>\n",
       "      <th>ymin</th>\n",
       "      <th>xmax</th>\n",
       "      <th>ymax</th>\n",
       "    </tr>\n",
       "  </thead>\n",
       "  <tbody>\n",
       "    <tr>\n",
       "      <th>0</th>\n",
       "      <td>maksssksksss0</td>\n",
       "      <td>512</td>\n",
       "      <td>366</td>\n",
       "      <td>3</td>\n",
       "      <td>without_mask</td>\n",
       "      <td>79</td>\n",
       "      <td>105</td>\n",
       "      <td>109</td>\n",
       "      <td>142</td>\n",
       "    </tr>\n",
       "    <tr>\n",
       "      <th>1</th>\n",
       "      <td>maksssksksss0</td>\n",
       "      <td>512</td>\n",
       "      <td>366</td>\n",
       "      <td>3</td>\n",
       "      <td>with_mask</td>\n",
       "      <td>185</td>\n",
       "      <td>100</td>\n",
       "      <td>226</td>\n",
       "      <td>144</td>\n",
       "    </tr>\n",
       "    <tr>\n",
       "      <th>2</th>\n",
       "      <td>maksssksksss0</td>\n",
       "      <td>512</td>\n",
       "      <td>366</td>\n",
       "      <td>3</td>\n",
       "      <td>without_mask</td>\n",
       "      <td>325</td>\n",
       "      <td>90</td>\n",
       "      <td>360</td>\n",
       "      <td>141</td>\n",
       "    </tr>\n",
       "    <tr>\n",
       "      <th>3</th>\n",
       "      <td>maksssksksss1</td>\n",
       "      <td>400</td>\n",
       "      <td>156</td>\n",
       "      <td>3</td>\n",
       "      <td>with_mask</td>\n",
       "      <td>321</td>\n",
       "      <td>34</td>\n",
       "      <td>354</td>\n",
       "      <td>69</td>\n",
       "    </tr>\n",
       "    <tr>\n",
       "      <th>4</th>\n",
       "      <td>maksssksksss1</td>\n",
       "      <td>400</td>\n",
       "      <td>156</td>\n",
       "      <td>3</td>\n",
       "      <td>with_mask</td>\n",
       "      <td>224</td>\n",
       "      <td>38</td>\n",
       "      <td>261</td>\n",
       "      <td>73</td>\n",
       "    </tr>\n",
       "  </tbody>\n",
       "</table>\n",
       "</div>"
      ],
      "text/plain": [
       "            file  width  height  depth          name  xmin  ymin  xmax  ymax\n",
       "0  maksssksksss0    512     366      3  without_mask    79   105   109   142\n",
       "1  maksssksksss0    512     366      3     with_mask   185   100   226   144\n",
       "2  maksssksksss0    512     366      3  without_mask   325    90   360   141\n",
       "3  maksssksksss1    400     156      3     with_mask   321    34   354    69\n",
       "4  maksssksksss1    400     156      3     with_mask   224    38   261    73"
      ]
     },
     "execution_count": 8,
     "metadata": {},
     "output_type": "execute_result"
    }
   ],
   "source": [
    "df.head()"
   ]
  },
  {
   "cell_type": "code",
   "execution_count": 9,
   "id": "ab8ce410-15f4-4e02-9303-f71ccd17dc38",
   "metadata": {},
   "outputs": [],
   "source": [
    "final_test_image = 'maksssksksss0'\n",
    "df_final_test = df.loc[df[\"file\"] == final_test_image]\n",
    "images.remove(f'{final_test_image}.png')\n",
    "df = df.loc[df[\"file\"] != final_test_image]"
   ]
  },
  {
   "cell_type": "code",
   "execution_count": 10,
   "id": "eeffa524-5751-415b-af52-13d051cf4115",
   "metadata": {},
   "outputs": [
    {
     "data": {
      "text/html": [
       "<div>\n",
       "<style scoped>\n",
       "    .dataframe tbody tr th:only-of-type {\n",
       "        vertical-align: middle;\n",
       "    }\n",
       "\n",
       "    .dataframe tbody tr th {\n",
       "        vertical-align: top;\n",
       "    }\n",
       "\n",
       "    .dataframe thead th {\n",
       "        text-align: right;\n",
       "    }\n",
       "</style>\n",
       "<table border=\"1\" class=\"dataframe\">\n",
       "  <thead>\n",
       "    <tr style=\"text-align: right;\">\n",
       "      <th></th>\n",
       "      <th>file</th>\n",
       "      <th>width</th>\n",
       "      <th>height</th>\n",
       "      <th>depth</th>\n",
       "      <th>name</th>\n",
       "      <th>xmin</th>\n",
       "      <th>ymin</th>\n",
       "      <th>xmax</th>\n",
       "      <th>ymax</th>\n",
       "    </tr>\n",
       "  </thead>\n",
       "  <tbody>\n",
       "    <tr>\n",
       "      <th>3</th>\n",
       "      <td>maksssksksss1</td>\n",
       "      <td>400</td>\n",
       "      <td>156</td>\n",
       "      <td>3</td>\n",
       "      <td>with_mask</td>\n",
       "      <td>321</td>\n",
       "      <td>34</td>\n",
       "      <td>354</td>\n",
       "      <td>69</td>\n",
       "    </tr>\n",
       "    <tr>\n",
       "      <th>4</th>\n",
       "      <td>maksssksksss1</td>\n",
       "      <td>400</td>\n",
       "      <td>156</td>\n",
       "      <td>3</td>\n",
       "      <td>with_mask</td>\n",
       "      <td>224</td>\n",
       "      <td>38</td>\n",
       "      <td>261</td>\n",
       "      <td>73</td>\n",
       "    </tr>\n",
       "    <tr>\n",
       "      <th>5</th>\n",
       "      <td>maksssksksss1</td>\n",
       "      <td>400</td>\n",
       "      <td>156</td>\n",
       "      <td>3</td>\n",
       "      <td>with_mask</td>\n",
       "      <td>299</td>\n",
       "      <td>58</td>\n",
       "      <td>315</td>\n",
       "      <td>81</td>\n",
       "    </tr>\n",
       "    <tr>\n",
       "      <th>6</th>\n",
       "      <td>maksssksksss1</td>\n",
       "      <td>400</td>\n",
       "      <td>156</td>\n",
       "      <td>3</td>\n",
       "      <td>with_mask</td>\n",
       "      <td>143</td>\n",
       "      <td>74</td>\n",
       "      <td>174</td>\n",
       "      <td>115</td>\n",
       "    </tr>\n",
       "    <tr>\n",
       "      <th>7</th>\n",
       "      <td>maksssksksss1</td>\n",
       "      <td>400</td>\n",
       "      <td>156</td>\n",
       "      <td>3</td>\n",
       "      <td>with_mask</td>\n",
       "      <td>74</td>\n",
       "      <td>69</td>\n",
       "      <td>95</td>\n",
       "      <td>99</td>\n",
       "    </tr>\n",
       "    <tr>\n",
       "      <th>...</th>\n",
       "      <td>...</td>\n",
       "      <td>...</td>\n",
       "      <td>...</td>\n",
       "      <td>...</td>\n",
       "      <td>...</td>\n",
       "      <td>...</td>\n",
       "      <td>...</td>\n",
       "      <td>...</td>\n",
       "      <td>...</td>\n",
       "    </tr>\n",
       "    <tr>\n",
       "      <th>4067</th>\n",
       "      <td>maksssksksss98</td>\n",
       "      <td>400</td>\n",
       "      <td>267</td>\n",
       "      <td>3</td>\n",
       "      <td>with_mask</td>\n",
       "      <td>263</td>\n",
       "      <td>62</td>\n",
       "      <td>287</td>\n",
       "      <td>85</td>\n",
       "    </tr>\n",
       "    <tr>\n",
       "      <th>4068</th>\n",
       "      <td>maksssksksss98</td>\n",
       "      <td>400</td>\n",
       "      <td>267</td>\n",
       "      <td>3</td>\n",
       "      <td>with_mask</td>\n",
       "      <td>344</td>\n",
       "      <td>80</td>\n",
       "      <td>377</td>\n",
       "      <td>106</td>\n",
       "    </tr>\n",
       "    <tr>\n",
       "      <th>4069</th>\n",
       "      <td>maksssksksss99</td>\n",
       "      <td>400</td>\n",
       "      <td>267</td>\n",
       "      <td>3</td>\n",
       "      <td>mask_weared_incorrect</td>\n",
       "      <td>181</td>\n",
       "      <td>54</td>\n",
       "      <td>273</td>\n",
       "      <td>162</td>\n",
       "    </tr>\n",
       "    <tr>\n",
       "      <th>4070</th>\n",
       "      <td>maksssksksss99</td>\n",
       "      <td>400</td>\n",
       "      <td>267</td>\n",
       "      <td>3</td>\n",
       "      <td>with_mask</td>\n",
       "      <td>99</td>\n",
       "      <td>87</td>\n",
       "      <td>176</td>\n",
       "      <td>165</td>\n",
       "    </tr>\n",
       "    <tr>\n",
       "      <th>4071</th>\n",
       "      <td>maksssksksss99</td>\n",
       "      <td>400</td>\n",
       "      <td>267</td>\n",
       "      <td>3</td>\n",
       "      <td>with_mask</td>\n",
       "      <td>289</td>\n",
       "      <td>99</td>\n",
       "      <td>355</td>\n",
       "      <td>233</td>\n",
       "    </tr>\n",
       "  </tbody>\n",
       "</table>\n",
       "<p>4069 rows × 9 columns</p>\n",
       "</div>"
      ],
      "text/plain": [
       "                file  width  height  depth                   name  xmin  ymin  \\\n",
       "3      maksssksksss1    400     156      3              with_mask   321    34   \n",
       "4      maksssksksss1    400     156      3              with_mask   224    38   \n",
       "5      maksssksksss1    400     156      3              with_mask   299    58   \n",
       "6      maksssksksss1    400     156      3              with_mask   143    74   \n",
       "7      maksssksksss1    400     156      3              with_mask    74    69   \n",
       "...              ...    ...     ...    ...                    ...   ...   ...   \n",
       "4067  maksssksksss98    400     267      3              with_mask   263    62   \n",
       "4068  maksssksksss98    400     267      3              with_mask   344    80   \n",
       "4069  maksssksksss99    400     267      3  mask_weared_incorrect   181    54   \n",
       "4070  maksssksksss99    400     267      3              with_mask    99    87   \n",
       "4071  maksssksksss99    400     267      3              with_mask   289    99   \n",
       "\n",
       "      xmax  ymax  \n",
       "3      354    69  \n",
       "4      261    73  \n",
       "5      315    81  \n",
       "6      174   115  \n",
       "7       95    99  \n",
       "...    ...   ...  \n",
       "4067   287    85  \n",
       "4068   377   106  \n",
       "4069   273   162  \n",
       "4070   176   165  \n",
       "4071   355   233  \n",
       "\n",
       "[4069 rows x 9 columns]"
      ]
     },
     "execution_count": 10,
     "metadata": {},
     "output_type": "execute_result"
    }
   ],
   "source": [
    "df"
   ]
  },
  {
   "cell_type": "code",
   "execution_count": 11,
   "id": "4580142b-1e36-4ba5-a865-18655b21ac68",
   "metadata": {},
   "outputs": [
    {
     "data": {
      "text/plain": [
       "name\n",
       "with_mask                3231\n",
       "without_mask              715\n",
       "mask_weared_incorrect     123\n",
       "Name: count, dtype: int64"
      ]
     },
     "execution_count": 11,
     "metadata": {},
     "output_type": "execute_result"
    }
   ],
   "source": [
    "df[\"name\"].value_counts()"
   ]
  },
  {
   "cell_type": "code",
   "execution_count": 12,
   "id": "30cb25b5-4f36-4bd1-83d4-a240396f657c",
   "metadata": {},
   "outputs": [
    {
     "data": {
      "text/plain": [
       "Text(0, 0.5, 'name')"
      ]
     },
     "execution_count": 12,
     "metadata": {},
     "output_type": "execute_result"
    },
    {
     "data": {
      "image/png": "[encoded data removed]",
      "text/plain": [
       "<Figure size 640x480 with 1 Axes>"
      ]
     },
     "metadata": {},
     "output_type": "display_data"
    }
   ],
   "source": [
    "df[\"name\"].value_counts().plot(kind='barh')\n",
    "plt.xlabel('Count', fontsize = 10, fontweight = 'bold')\n",
    "plt.ylabel('name', fontsize = 10, fontweight = 'bold')"
   ]
  },
  {
   "cell_type": "code",
   "execution_count": 13,
   "id": "f1379f2a-1e13-47df-8d3b-f7996b1302e7",
   "metadata": {},
   "outputs": [],
   "source": [
    "labels = df['name'].unique()\n",
    "directory = ['train', 'test', 'val']\n",
    "output_data_path =  '.'\n",
    "\n",
    "import os\n",
    "for label in labels:\n",
    "    for d in directory:\n",
    "        path = os.path.join(output_data_path, d, label)\n",
    "        if not os.path.exists(path):\n",
    "            os.makedirs(path)"
   ]
  },
  {
   "cell_type": "code",
   "execution_count": 14,
   "id": "44a78da3-2a85-4987-b69f-2d89971129c0",
   "metadata": {},
   "outputs": [],
   "source": [
    "def crop_img(image_path, x_min, y_min, x_max, y_max):\n",
    "    x_shift = (x_max - x_min) * 0.1\n",
    "    y_shift = (y_max - y_min) * 0.1\n",
    "    img = Image.open(image_path)\n",
    "    cropped = img.crop((x_min - x_shift, y_min - y_shift, x_max + x_shift, y_max + y_shift))\n",
    "    return cropped"
   ]
  },
  {
   "cell_type": "code",
   "execution_count": 15,
   "id": "97fb408f-acbc-48f0-864f-47e48fa2b979",
   "metadata": {},
   "outputs": [],
   "source": [
    "def extract_faces(image_name, image_info):\n",
    "    faces = []\n",
    "    df_one_img = image_info[image_info['file'] == image_name[:-4]][['xmin', 'ymin', 'xmax', 'ymax', 'name']]\n",
    "    for row_num in range(len(df_one_img)):\n",
    "        x_min, y_min, x_max, y_max, label = df_one_img.iloc[row_num] \n",
    "        image_path = os.path.join(input_data_path, image_name)\n",
    "        faces.append((crop_img(image_path, x_min, y_min, x_max, y_max), label,f'{image_name[:-4]}_{(x_min, y_min)}'))\n",
    "    return faces"
   ]
  },
  {
   "cell_type": "code",
   "execution_count": 16,
   "id": "75a32293-ba1f-47d2-95ca-63e11a63672b",
   "metadata": {},
   "outputs": [],
   "source": [
    "cropped_faces = [extract_faces(img, df) for img in images]"
   ]
  },
  {
   "cell_type": "code",
   "execution_count": 17,
   "id": "d0273db0-727b-4cf3-b84d-b222ab207638",
   "metadata": {},
   "outputs": [],
   "source": [
    "flat_cropped_faces = sum(cropped_faces, [])"
   ]
  },
  {
   "cell_type": "code",
   "execution_count": 18,
   "id": "8364c2e2-731c-40ae-aff2-2bea56c80872",
   "metadata": {},
   "outputs": [],
   "source": [
    "with_mask = [(img, image_name) for img, label,image_name in flat_cropped_faces if label == \"with_mask\"]\n",
    "mask_weared_incorrect = [(img, image_name) for img, label,image_name in flat_cropped_faces if label == \"mask_weared_incorrect\"]\n",
    "without_mask = [(img, image_name) for img, label,image_name in flat_cropped_faces if label == \"without_mask\"]"
   ]
  },
  {
   "cell_type": "code",
   "execution_count": 19,
   "id": "b1d365f4-840d-4130-8903-02399ce4fbc4",
   "metadata": {},
   "outputs": [
    {
     "name": "stdout",
     "output_type": "stream",
     "text": [
      "3231\n",
      "715\n",
      "123\n",
      "4069\n"
     ]
    }
   ],
   "source": [
    "print(len(with_mask))\n",
    "print(len(without_mask))\n",
    "print(len(mask_weared_incorrect))\n",
    "print(len(with_mask) + len(without_mask) + len(mask_weared_incorrect))"
   ]
  },
  {
   "cell_type": "code",
   "execution_count": 20,
   "id": "a391e990-f499-410a-8fe1-9c0d24971b66",
   "metadata": {},
   "outputs": [],
   "source": [
    "train_with_mask, test_with_mask = train_test_split(with_mask, test_size=0.20, random_state=42)\n",
    "test_with_mask, val_with_mask = train_test_split(test_with_mask, test_size=0.7, random_state=42)\n",
    "\n",
    "train_mask_weared_incorrect, test_mask_weared_incorrect = train_test_split(mask_weared_incorrect, test_size=0.20, random_state=42)\n",
    "test_mask_weared_incorrect, val_mask_weared_incorrect = train_test_split(test_mask_weared_incorrect, test_size=0.7, random_state=42)\n",
    "\n",
    "train_without_mask, test_without_mask = train_test_split(without_mask, test_size=0.20, random_state=42)\n",
    "test_without_mask, val_without_mask = train_test_split(test_without_mask, test_size=0.7, random_state=42)"
   ]
  },
  {
   "cell_type": "code",
   "execution_count": 21,
   "id": "41e0aefc-307d-4249-836f-a1b03f0ddacb",
   "metadata": {},
   "outputs": [],
   "source": [
    "def save_image(image, image_name, output_data_path,  dataset_type, label):\n",
    "    output_path = os.path.join(output_data_path, dataset_type, label ,f'{image_name}.png')\n",
    "    image.save(output_path)"
   ]
  },
  {
   "cell_type": "code",
   "execution_count": 22,
   "id": "61997ea9-18a2-4695-900f-0add3ba2f36e",
   "metadata": {},
   "outputs": [],
   "source": [
    "for image, image_name in train_with_mask:\n",
    "    save_image(image, image_name, output_data_path, 'train', 'with_mask')\n",
    "\n",
    "for image, image_name in train_mask_weared_incorrect:\n",
    "    save_image(image, image_name, output_data_path, 'train', 'mask_weared_incorrect')\n",
    "\n",
    "for image, image_name in train_without_mask:\n",
    "    save_image(image, image_name, output_data_path, 'train', 'without_mask')\n",
    "\n",
    "for image, image_name in test_with_mask:\n",
    "    save_image(image, image_name, output_data_path, 'test', 'with_mask')\n",
    "\n",
    "for image, image_name in test_mask_weared_incorrect:\n",
    "    save_image(image, image_name, output_data_path, 'test', 'mask_weared_incorrect')\n",
    "\n",
    "for image, image_name in test_without_mask:\n",
    "    save_image(image, image_name, output_data_path, 'test', 'without_mask')\n",
    "        \n",
    "for image, image_name in val_with_mask:\n",
    "    save_image(image, image_name, output_data_path, 'val', 'with_mask')\n",
    "\n",
    "for image, image_name in val_without_mask:\n",
    "    save_image(image, image_name, output_data_path, 'val', 'without_mask')\n",
    "\n",
    "for image, image_name in val_mask_weared_incorrect:\n",
    "    save_image(image, image_name, output_data_path, 'val', 'mask_weared_incorrect')"
   ]
  },
  {
   "cell_type": "code",
   "execution_count": 23,
   "id": "2d7ce113-ca53-4852-954e-2dd9f3a9faa0",
   "metadata": {},
   "outputs": [
    {
     "name": "stdout",
     "output_type": "stream",
     "text": [
      "Model: \"sequential\"\n",
      "_________________________________________________________________\n",
      " Layer (type)                Output Shape              Param #   \n",
      "=================================================================\n",
      " conv2d (Conv2D)             (None, 35, 35, 16)        448       \n",
      "                                                                 \n",
      " max_pooling2d (MaxPooling2D  (None, 17, 17, 16)       0         \n",
      " )                                                               \n",
      "                                                                 \n",
      " conv2d_1 (Conv2D)           (None, 17, 17, 32)        4640      \n",
      "                                                                 \n",
      " max_pooling2d_1 (MaxPooling  (None, 8, 8, 32)         0         \n",
      " 2D)                                                             \n",
      "                                                                 \n",
      " conv2d_2 (Conv2D)           (None, 8, 8, 64)          18496     \n",
      "                                                                 \n",
      " max_pooling2d_2 (MaxPooling  (None, 4, 4, 64)         0         \n",
      " 2D)                                                             \n",
      "                                                                 \n",
      " dropout (Dropout)           (None, 4, 4, 64)          0         \n",
      "                                                                 \n",
      " flatten (Flatten)           (None, 1024)              0         \n",
      "                                                                 \n",
      " dense (Dense)               (None, 500)               512500    \n",
      "                                                                 \n",
      " dropout_1 (Dropout)         (None, 500)               0         \n",
      "                                                                 \n",
      " dense_1 (Dense)             (None, 3)                 1503      \n",
      "                                                                 \n",
      "=================================================================\n",
      "Total params: 537,587\n",
      "Trainable params: 537,587\n",
      "Non-trainable params: 0\n",
      "_________________________________________________________________\n"
     ]
    }
   ],
   "source": [
    "model = Sequential()\n",
    "model.add(Conv2D(filters = 16, kernel_size = 3,  padding='same', activation = 'relu', input_shape = (35,35,3)))\n",
    "model.add(MaxPooling2D(pool_size = 2))\n",
    "model.add(Conv2D(filters = 32, kernel_size = 3,  padding='same', activation = 'relu'))\n",
    "model.add(MaxPooling2D(pool_size = 2))\n",
    "model.add(Conv2D(filters = 64, kernel_size = 3,  padding='same', activation = 'relu'))\n",
    "model.add(MaxPooling2D(pool_size = 2))\n",
    "model.add(Dropout(0.3))\n",
    "model.add(Flatten())\n",
    "model.add(Dense(units = 500, activation = 'relu'))\n",
    "model.add(Dropout(0.3))\n",
    "model.add(Dense(units = 3, activation = 'softmax'))\n",
    "\n",
    "model.summary()"
   ]
  },
  {
   "cell_type": "code",
   "execution_count": 24,
   "id": "fc4b57cb-d65d-4c18-b709-aaa5fb1b2609",
   "metadata": {},
   "outputs": [
    {
     "name": "stdout",
     "output_type": "stream",
     "text": [
      "Found 3254 images belonging to 3 classes.\n",
      "Found 572 images belonging to 3 classes.\n",
      "Found 243 images belonging to 3 classes.\n"
     ]
    }
   ],
   "source": [
    "batch_size = 8\n",
    "epochs = 50\n",
    "\n",
    "datagen = ImageDataGenerator(\n",
    "    rescale=1.0 / 255, horizontal_flip=True, zoom_range=0.1, shear_range=0.2, width_shift_range=0.1,\n",
    "    height_shift_range=0.1, rotation_range=4, vertical_flip=False\n",
    "\n",
    ")\n",
    "\n",
    "val_datagen = ImageDataGenerator(\n",
    "    rescale=1.0 / 255\n",
    ")\n",
    " \n",
    "\n",
    "train_generator = datagen.flow_from_directory(\n",
    "    directory=r\"D:\\face_mask\\train\", \n",
    "    target_size=(35, 35),\n",
    "    class_mode=\"categorical\", batch_size=batch_size, shuffle=True\n",
    ")\n",
    "\n",
    "# Validation data\n",
    "val_generator = val_datagen.flow_from_directory(\n",
    "    directory=r\"D:\\face_mask\\val\", \n",
    "    target_size=(35, 35),\n",
    "    class_mode=\"categorical\", batch_size=batch_size, shuffle=True\n",
    ")\n",
    "\n",
    "# Test data\n",
    "test_generator = val_datagen.flow_from_directory(\n",
    "    directory=r\"D:\\face_mask\\test\", \n",
    "    target_size=(35, 35),\n",
    "    class_mode=\"categorical\", batch_size=batch_size, shuffle=False\n",
    ")"
   ]
  },
  {
   "cell_type": "code",
   "execution_count": 25,
   "id": "dfe1f3eb-e183-4f2b-9c1d-3ffa817fb8aa",
   "metadata": {},
   "outputs": [
    {
     "name": "stdout",
     "output_type": "stream",
     "text": [
      "steps_per_epoch: 50\n",
      "val_steps: 9\n"
     ]
    }
   ],
   "source": [
    "data_size = len(train_generator)\n",
    "\n",
    "steps_per_epoch = int(data_size / batch_size)\n",
    "print(f\"steps_per_epoch: {steps_per_epoch}\")\n",
    "\n",
    "val_steps = int(len(val_generator) // batch_size)\n",
    "print(f\"val_steps: {val_steps}\")"
   ]
  },
  {
   "cell_type": "code",
   "execution_count": 26,
   "id": "4f8fb78d-2ca4-46d9-9493-de5f2351eddb",
   "metadata": {},
   "outputs": [],
   "source": [
    "model.compile(\n",
    "    optimizer=\"adam\",\n",
    "    loss=\"categorical_crossentropy\",\n",
    "    metrics=['accuracy', 'Recall', 'Precision', 'AUC']\n",
    ")"
   ]
  },
  {
   "cell_type": "code",
   "execution_count": 27,
   "id": "6a3c587f-7d73-4b4a-835b-61005cec2174",
   "metadata": {},
   "outputs": [],
   "source": [
    "early_stopping = EarlyStopping(monitor='val_loss', patience=8, restore_best_weights=True)"
   ]
  },
  {
   "cell_type": "code",
   "execution_count": 28,
   "id": "3935eda1-9932-48fe-b34e-390824c43ae3",
   "metadata": {},
   "outputs": [],
   "source": [
    "lrr = ReduceLROnPlateau(monitor='val_loss',patience=8,verbose=1,factor=0.5, min_lr=0.00001)\n"
   ]
  },
  {
   "cell_type": "code",
   "execution_count": 29,
   "id": "2d5a28e0-84af-4463-9cc5-314c74053e88",
   "metadata": {},
   "outputs": [
    {
     "name": "stdout",
     "output_type": "stream",
     "text": [
      "Epoch 1/50\n",
      "50/50 [==============================] - 2s 18ms/step - loss: 0.6882 - accuracy: 0.7900 - recall: 0.7850 - precision: 0.8031 - auc: 0.8698 - val_loss: 0.5774 - val_accuracy: 0.8333 - val_recall: 0.8333 - val_precision: 0.8333 - val_auc: 0.9360 - lr: 0.0010\n",
      "Epoch 2/50\n",
      "50/50 [==============================] - 1s 13ms/step - loss: 0.5462 - accuracy: 0.8075 - recall: 0.8075 - precision: 0.8177 - auc: 0.9212 - val_loss: 0.3968 - val_accuracy: 0.8056 - val_recall: 0.8056 - val_precision: 0.8169 - val_auc: 0.9599 - lr: 0.0010\n",
      "Epoch 3/50\n",
      "50/50 [==============================] - 1s 13ms/step - loss: 0.4566 - accuracy: 0.8425 - recall: 0.8075 - precision: 0.8636 - auc: 0.9438 - val_loss: 0.3361 - val_accuracy: 0.9167 - val_recall: 0.9028 - val_precision: 0.9155 - val_auc: 0.9700 - lr: 0.0010\n",
      "Epoch 4/50\n",
      "50/50 [==============================] - 1s 12ms/step - loss: 0.3182 - accuracy: 0.9025 - recall: 0.8875 - precision: 0.9103 - auc: 0.9732 - val_loss: 0.3846 - val_accuracy: 0.8750 - val_recall: 0.8472 - val_precision: 0.8714 - val_auc: 0.9591 - lr: 0.0010\n",
      "Epoch 5/50\n",
      "50/50 [==============================] - 1s 12ms/step - loss: 0.2706 - accuracy: 0.9150 - recall: 0.8900 - precision: 0.9247 - auc: 0.9787 - val_loss: 0.3241 - val_accuracy: 0.8889 - val_recall: 0.8889 - val_precision: 0.8889 - val_auc: 0.9733 - lr: 0.0010\n",
      "Epoch 6/50\n",
      "50/50 [==============================] - 1s 11ms/step - loss: 0.3553 - accuracy: 0.8894 - recall: 0.8693 - precision: 0.9081 - auc: 0.9629 - val_loss: 0.3266 - val_accuracy: 0.8750 - val_recall: 0.8750 - val_precision: 0.8873 - val_auc: 0.9718 - lr: 0.0010\n",
      "Epoch 7/50\n",
      "50/50 [==============================] - 1s 11ms/step - loss: 0.2842 - accuracy: 0.9275 - recall: 0.9200 - precision: 0.9270 - auc: 0.9745 - val_loss: 0.2664 - val_accuracy: 0.8750 - val_recall: 0.8750 - val_precision: 0.8873 - val_auc: 0.9826 - lr: 0.0010\n",
      "Epoch 8/50\n",
      "50/50 [==============================] - 1s 12ms/step - loss: 0.2983 - accuracy: 0.9150 - recall: 0.9075 - precision: 0.9167 - auc: 0.9713 - val_loss: 0.2633 - val_accuracy: 0.9306 - val_recall: 0.9306 - val_precision: 0.9306 - val_auc: 0.9793 - lr: 0.0010\n",
      "Epoch 9/50\n",
      "50/50 [==============================] - 1s 11ms/step - loss: 0.2945 - accuracy: 0.8920 - recall: 0.8819 - precision: 0.8909 - auc: 0.9751 - val_loss: 0.3129 - val_accuracy: 0.9028 - val_recall: 0.9028 - val_precision: 0.9028 - val_auc: 0.9754 - lr: 0.0010\n",
      "Epoch 10/50\n",
      "50/50 [==============================] - 1s 11ms/step - loss: 0.2249 - accuracy: 0.9375 - recall: 0.9300 - precision: 0.9442 - auc: 0.9852 - val_loss: 0.1285 - val_accuracy: 0.9444 - val_recall: 0.9444 - val_precision: 0.9444 - val_auc: 0.9973 - lr: 0.0010\n",
      "Epoch 11/50\n",
      "50/50 [==============================] - 1s 11ms/step - loss: 0.2157 - accuracy: 0.9425 - recall: 0.9350 - precision: 0.9492 - auc: 0.9842 - val_loss: 0.1129 - val_accuracy: 0.9722 - val_recall: 0.9722 - val_precision: 0.9722 - val_auc: 0.9966 - lr: 0.0010\n",
      "Epoch 12/50\n",
      "50/50 [==============================] - 1s 10ms/step - loss: 0.3535 - accuracy: 0.8769 - recall: 0.8442 - precision: 0.9081 - auc: 0.9661 - val_loss: 0.4111 - val_accuracy: 0.8889 - val_recall: 0.8889 - val_precision: 0.9014 - val_auc: 0.9667 - lr: 0.0010\n",
      "Epoch 13/50\n",
      "50/50 [==============================] - 1s 11ms/step - loss: 0.2009 - accuracy: 0.9400 - recall: 0.9350 - precision: 0.9468 - auc: 0.9875 - val_loss: 0.2843 - val_accuracy: 0.9167 - val_recall: 0.9167 - val_precision: 0.9167 - val_auc: 0.9777 - lr: 0.0010\n",
      "Epoch 14/50\n",
      "50/50 [==============================] - 1s 10ms/step - loss: 0.2770 - accuracy: 0.9225 - recall: 0.9175 - precision: 0.9291 - auc: 0.9774 - val_loss: 0.2339 - val_accuracy: 0.9306 - val_recall: 0.9306 - val_precision: 0.9306 - val_auc: 0.9835 - lr: 0.0010\n",
      "Epoch 15/50\n",
      "50/50 [==============================] - 1s 11ms/step - loss: 0.2864 - accuracy: 0.9000 - recall: 0.8900 - precision: 0.9199 - auc: 0.9759 - val_loss: 0.1098 - val_accuracy: 0.9722 - val_recall: 0.9722 - val_precision: 0.9722 - val_auc: 0.9966 - lr: 0.0010\n",
      "Epoch 16/50\n",
      "50/50 [==============================] - 1s 10ms/step - loss: 0.2299 - accuracy: 0.9347 - recall: 0.9271 - precision: 0.9413 - auc: 0.9807 - val_loss: 0.2012 - val_accuracy: 0.9306 - val_recall: 0.9306 - val_precision: 0.9306 - val_auc: 0.9897 - lr: 0.0010\n",
      "Epoch 17/50\n",
      "50/50 [==============================] - 1s 10ms/step - loss: 0.2748 - accuracy: 0.9150 - recall: 0.9025 - precision: 0.9280 - auc: 0.9772 - val_loss: 0.2394 - val_accuracy: 0.9306 - val_recall: 0.9167 - val_precision: 0.9429 - val_auc: 0.9838 - lr: 0.0010\n",
      "Epoch 18/50\n",
      "50/50 [==============================] - 1s 10ms/step - loss: 0.2594 - accuracy: 0.9225 - recall: 0.9125 - precision: 0.9264 - auc: 0.9803 - val_loss: 0.3500 - val_accuracy: 0.8750 - val_recall: 0.8750 - val_precision: 0.8750 - val_auc: 0.9724 - lr: 0.0010\n",
      "Epoch 19/50\n",
      "50/50 [==============================] - 1s 11ms/step - loss: 0.2227 - accuracy: 0.9325 - recall: 0.9275 - precision: 0.9345 - auc: 0.9842 - val_loss: 0.2345 - val_accuracy: 0.9444 - val_recall: 0.9444 - val_precision: 0.9444 - val_auc: 0.9843 - lr: 0.0010\n",
      "Epoch 20/50\n",
      "50/50 [==============================] - 1s 10ms/step - loss: 0.2297 - accuracy: 0.9250 - recall: 0.9200 - precision: 0.9270 - auc: 0.9850 - val_loss: 0.2250 - val_accuracy: 0.9167 - val_recall: 0.9167 - val_precision: 0.9167 - val_auc: 0.9866 - lr: 0.0010\n",
      "Epoch 21/50\n",
      "50/50 [==============================] - 1s 11ms/step - loss: 0.2848 - accuracy: 0.9150 - recall: 0.9000 - precision: 0.9207 - auc: 0.9771 - val_loss: 0.1371 - val_accuracy: 0.9583 - val_recall: 0.9583 - val_precision: 0.9583 - val_auc: 0.9960 - lr: 0.0010\n",
      "Epoch 22/50\n",
      "50/50 [==============================] - 0s 10ms/step - loss: 0.1986 - accuracy: 0.9500 - recall: 0.9475 - precision: 0.9523 - auc: 0.9853 - val_loss: 0.2185 - val_accuracy: 0.9167 - val_recall: 0.9028 - val_precision: 0.9286 - val_auc: 0.9873 - lr: 0.0010\n",
      "Epoch 23/50\n",
      "50/50 [==============================] - 1s 10ms/step - loss: 0.2135 - accuracy: 0.9350 - recall: 0.9300 - precision: 0.9442 - auc: 0.9847 - val_loss: 0.0888 - val_accuracy: 0.9722 - val_recall: 0.9722 - val_precision: 0.9722 - val_auc: 0.9965 - lr: 0.0010\n",
      "Epoch 24/50\n",
      "50/50 [==============================] - 1s 10ms/step - loss: 0.1925 - accuracy: 0.9422 - recall: 0.9372 - precision: 0.9467 - auc: 0.9874 - val_loss: 0.1468 - val_accuracy: 0.9583 - val_recall: 0.9583 - val_precision: 0.9583 - val_auc: 0.9932 - lr: 0.0010\n",
      "Epoch 25/50\n",
      "50/50 [==============================] - 1s 10ms/step - loss: 0.2360 - accuracy: 0.9325 - recall: 0.9275 - precision: 0.9416 - auc: 0.9802 - val_loss: 0.2609 - val_accuracy: 0.9167 - val_recall: 0.9167 - val_precision: 0.9167 - val_auc: 0.9829 - lr: 0.0010\n",
      "Epoch 26/50\n",
      "50/50 [==============================] - 1s 10ms/step - loss: 0.2114 - accuracy: 0.9425 - recall: 0.9400 - precision: 0.9424 - auc: 0.9853 - val_loss: 0.3016 - val_accuracy: 0.9028 - val_recall: 0.9028 - val_precision: 0.9028 - val_auc: 0.9806 - lr: 0.0010\n",
      "Epoch 27/50\n",
      "50/50 [==============================] - 1s 10ms/step - loss: 0.2395 - accuracy: 0.9196 - recall: 0.9146 - precision: 0.9262 - auc: 0.9842 - val_loss: 0.1635 - val_accuracy: 0.9722 - val_recall: 0.9583 - val_precision: 0.9857 - val_auc: 0.9932 - lr: 0.0010\n",
      "Epoch 28/50\n",
      "50/50 [==============================] - 0s 10ms/step - loss: 0.1911 - accuracy: 0.9425 - recall: 0.9400 - precision: 0.9424 - auc: 0.9883 - val_loss: 0.1690 - val_accuracy: 0.9583 - val_recall: 0.9583 - val_precision: 0.9583 - val_auc: 0.9889 - lr: 0.0010\n",
      "Epoch 29/50\n",
      "50/50 [==============================] - 1s 10ms/step - loss: 0.2355 - accuracy: 0.9350 - recall: 0.9275 - precision: 0.9345 - auc: 0.9826 - val_loss: 0.1088 - val_accuracy: 0.9722 - val_recall: 0.9583 - val_precision: 0.9718 - val_auc: 0.9986 - lr: 0.0010\n",
      "Epoch 30/50\n",
      "50/50 [==============================] - 1s 10ms/step - loss: 0.1825 - accuracy: 0.9450 - recall: 0.9350 - precision: 0.9468 - auc: 0.9891 - val_loss: 0.2627 - val_accuracy: 0.9028 - val_recall: 0.8889 - val_precision: 0.9143 - val_auc: 0.9816 - lr: 0.0010\n",
      "Epoch 31/50\n",
      "46/50 [==========================>...] - ETA: 0s - loss: 0.1793 - accuracy: 0.9538 - recall: 0.9484 - precision: 0.9562 - auc: 0.9885\n",
      "Epoch 31: ReduceLROnPlateau reducing learning rate to 0.0005000000237487257.\n",
      "50/50 [==============================] - 1s 10ms/step - loss: 0.1731 - accuracy: 0.9550 - recall: 0.9500 - precision: 0.9572 - auc: 0.9893 - val_loss: 0.2210 - val_accuracy: 0.9167 - val_recall: 0.9167 - val_precision: 0.9167 - val_auc: 0.9900 - lr: 0.0010\n"
     ]
    }
   ],
   "source": [
    "model_history = model.fit(\n",
    "    x=train_generator,\n",
    "    steps_per_epoch=steps_per_epoch,\n",
    "    epochs=epochs,\n",
    "    shuffle=True,\n",
    "    validation_data=val_generator,\n",
    "    validation_steps=val_steps,\n",
    "    callbacks=[early_stopping, lrr]\n",
    ")\n"
   ]
  },
  {
   "cell_type": "code",
   "execution_count": 30,
   "id": "dc8496b7-c74c-4669-9703-d7712ed57bf9",
   "metadata": {},
   "outputs": [
    {
     "name": "stdout",
     "output_type": "stream",
     "text": [
      "31/31 [==============================] - 0s 7ms/step - loss: 0.1813 - accuracy: 0.9342 - recall: 0.9342 - precision: 0.9342 - auc: 0.9906\n",
      "0.18128326535224915 || 93.41563582420349 || 93.41563582420349 || 93.41563582420349 || 99.06010031700134\n"
     ]
    }
   ],
   "source": [
    "model_loss, model_acc, recall, precision, auc = model.evaluate(test_generator)\n",
    "print(f'{model_loss} || {model_acc*100} || {recall*100} || {precision*100} || {auc*100}')"
   ]
  },
  {
   "cell_type": "code",
   "execution_count": 31,
   "id": "e90e6db3-f37d-4d79-a05d-42c96ed5d02f",
   "metadata": {},
   "outputs": [
    {
     "name": "stdout",
     "output_type": "stream",
     "text": [
      "31/31 [==============================] - 0s 4ms/step\n"
     ]
    },
    {
     "data": {
      "text/plain": [
       "array([[4.40722793e-01, 5.55900633e-01, 3.37665994e-03],\n",
       "       [7.70139843e-02, 8.86918306e-01, 3.60677578e-02],\n",
       "       [3.38457346e-01, 6.14428341e-01, 4.71142828e-02],\n",
       "       [2.39754751e-01, 7.54633486e-01, 5.61175821e-03],\n",
       "       [3.25258017e-01, 6.68971121e-01, 5.77096781e-03],\n",
       "       [5.16079128e-01, 4.25494283e-01, 5.84266633e-02],\n",
       "       [7.52322823e-02, 8.39906752e-01, 8.48609656e-02],\n",
       "       [1.37470048e-02, 9.86251414e-01, 1.47490141e-06],\n",
       "       [5.73018417e-02, 9.41510618e-01, 1.18756574e-03],\n",
       "       [8.50330573e-03, 9.91046488e-01, 4.50292864e-04],\n",
       "       [7.33622769e-03, 9.92302895e-01, 3.60956095e-04],\n",
       "       [2.94553209e-03, 9.97048199e-01, 6.27603049e-06],\n",
       "       [5.30716171e-03, 9.94618475e-01, 7.42847551e-05],\n",
       "       [2.58324370e-02, 9.74138856e-01, 2.86804334e-05],\n",
       "       [3.43319662e-02, 9.58922088e-01, 6.74589071e-03],\n",
       "       [1.24480936e-03, 9.98754978e-01, 2.69020234e-07],\n",
       "       [2.87328344e-02, 9.43469703e-01, 2.77975127e-02],\n",
       "       [2.66147424e-02, 9.71785307e-01, 1.60000194e-03],\n",
       "       [1.48204379e-02, 9.85118628e-01, 6.09250419e-05],\n",
       "       [2.30295844e-02, 9.76640761e-01, 3.29618895e-04],\n",
       "       [1.68485045e-02, 9.83145237e-01, 6.20723040e-06],\n",
       "       [6.99902419e-03, 9.92675126e-01, 3.25870118e-04],\n",
       "       [6.00863155e-03, 9.93891835e-01, 9.95263254e-05],\n",
       "       [3.24855559e-02, 9.67509270e-01, 5.13975283e-06],\n",
       "       [1.11367842e-02, 9.88478363e-01, 3.84847401e-04],\n",
       "       [3.98780685e-03, 9.95945394e-01, 6.68129069e-05],\n",
       "       [2.20646593e-03, 9.76396538e-03, 9.88029540e-01],\n",
       "       [9.65984073e-03, 9.90060091e-01, 2.80092616e-04],\n",
       "       [4.67541424e-04, 9.99531865e-01, 5.70513521e-07],\n",
       "       [1.04844207e-02, 2.03209490e-01, 7.86306083e-01],\n",
       "       [1.11154549e-01, 8.23024333e-01, 6.58210367e-02],\n",
       "       [5.77213801e-02, 9.35257435e-01, 7.02117337e-03],\n",
       "       [3.65055829e-01, 5.65401971e-01, 6.95422292e-02],\n",
       "       [2.40010489e-03, 9.97599542e-01, 4.06634456e-07],\n",
       "       [4.23563411e-03, 9.95573997e-01, 1.90363469e-04],\n",
       "       [2.13168450e-02, 6.82429552e-01, 2.96253711e-01],\n",
       "       [1.25959832e-02, 9.85988438e-01, 1.41562847e-03],\n",
       "       [4.38586622e-02, 8.94226551e-01, 6.19147457e-02],\n",
       "       [9.34138615e-03, 9.90617335e-01, 4.13133457e-05],\n",
       "       [6.14522258e-03, 9.93853688e-01, 1.10472877e-06],\n",
       "       [2.92523708e-02, 9.57275927e-01, 1.34718129e-02],\n",
       "       [2.01946907e-02, 9.79781032e-01, 2.42995247e-05],\n",
       "       [5.37902629e-03, 9.93815899e-01, 8.05140182e-04],\n",
       "       [1.85633451e-02, 9.79110539e-01, 2.32609687e-03],\n",
       "       [7.16165826e-03, 9.92372394e-01, 4.66000638e-04],\n",
       "       [1.20656807e-02, 9.87809896e-01, 1.24504862e-04],\n",
       "       [3.78801256e-01, 6.09586060e-01, 1.16127236e-02],\n",
       "       [9.66467634e-02, 9.02075231e-01, 1.27799029e-03],\n",
       "       [3.59769613e-02, 9.62121129e-01, 1.90198910e-03],\n",
       "       [1.69433409e-03, 9.98293459e-01, 1.22833580e-05],\n",
       "       [2.23770160e-02, 9.76913393e-01, 7.09620363e-04],\n",
       "       [2.16833558e-02, 9.76128936e-01, 2.18772842e-03],\n",
       "       [7.49598909e-03, 9.92363811e-01, 1.40232689e-04],\n",
       "       [2.01264974e-02, 9.78461325e-01, 1.41217175e-03],\n",
       "       [4.93097007e-02, 7.08329082e-01, 2.42361173e-01],\n",
       "       [4.55954559e-02, 9.54035521e-01, 3.69002897e-04],\n",
       "       [1.02375625e-02, 9.89565372e-01, 1.97081215e-04],\n",
       "       [3.25857028e-02, 9.21265185e-01, 4.61491123e-02],\n",
       "       [1.12332450e-02, 9.88722682e-01, 4.41012053e-05],\n",
       "       [1.16181811e-02, 3.71906698e-01, 6.16475105e-01],\n",
       "       [8.34658369e-03, 9.85519826e-01, 6.13360712e-03],\n",
       "       [1.56345982e-02, 9.26979959e-01, 5.73854186e-02],\n",
       "       [1.03347562e-02, 9.89220083e-01, 4.45124577e-04],\n",
       "       [3.52841280e-02, 9.64036644e-01, 6.79303717e-04],\n",
       "       [3.09280865e-02, 9.65035975e-01, 4.03603958e-03],\n",
       "       [1.86041184e-02, 9.81072009e-01, 3.23900895e-04],\n",
       "       [2.73860916e-02, 9.72172141e-01, 4.41802404e-04],\n",
       "       [1.52369356e-02, 1.03970341e-01, 8.80792677e-01],\n",
       "       [1.29600018e-02, 9.86946940e-01, 9.30898459e-05],\n",
       "       [6.24404103e-03, 9.93462324e-01, 2.93539895e-04],\n",
       "       [3.30484379e-03, 9.96681035e-01, 1.40795682e-05],\n",
       "       [1.03914794e-02, 9.89461124e-01, 1.47364888e-04],\n",
       "       [4.52228077e-02, 9.54136074e-01, 6.41041959e-04],\n",
       "       [4.44262708e-03, 9.95065749e-01, 4.91676852e-04],\n",
       "       [1.89109333e-02, 5.12163043e-01, 4.68926042e-01],\n",
       "       [2.44842703e-03, 9.97551143e-01, 4.87823229e-07],\n",
       "       [4.96669952e-03, 9.95030999e-01, 2.30277192e-06],\n",
       "       [3.90236080e-03, 9.96072888e-01, 2.47844491e-05],\n",
       "       [3.09791248e-02, 9.42239225e-01, 2.67817192e-02],\n",
       "       [2.81910668e-03, 9.97105300e-01, 7.55905858e-05],\n",
       "       [2.94343475e-02, 9.66367245e-01, 4.19833418e-03],\n",
       "       [2.30702665e-02, 9.76429105e-01, 5.00682625e-04],\n",
       "       [1.59496872e-03, 9.98374939e-01, 3.00873744e-05],\n",
       "       [1.65110361e-02, 9.82952356e-01, 5.36496693e-04],\n",
       "       [3.73271015e-03, 9.96131539e-01, 1.35713475e-04],\n",
       "       [1.54998535e-02, 9.83003616e-01, 1.49651116e-03],\n",
       "       [1.40444869e-02, 9.85647678e-01, 3.07889044e-04],\n",
       "       [9.19634569e-03, 9.90775526e-01, 2.81209759e-05],\n",
       "       [1.45214191e-02, 9.84987557e-01, 4.91005718e-04],\n",
       "       [1.57411266e-02, 9.84251142e-01, 7.71101440e-06],\n",
       "       [2.92719789e-02, 7.02048481e-01, 2.68679529e-01],\n",
       "       [1.30872196e-02, 9.83061910e-01, 3.85087309e-03],\n",
       "       [2.68210415e-02, 9.64689136e-01, 8.48974939e-03],\n",
       "       [1.12776470e-03, 9.98872221e-01, 4.39869723e-08],\n",
       "       [3.13214539e-03, 9.96854901e-01, 1.28964393e-05],\n",
       "       [1.75755285e-02, 9.79074001e-01, 3.35051049e-03],\n",
       "       [6.87163472e-02, 8.81197393e-01, 5.00863008e-02],\n",
       "       [8.32265839e-02, 8.63434851e-01, 5.33386022e-02],\n",
       "       [5.63919619e-02, 5.76116621e-01, 3.67491454e-01],\n",
       "       [4.47831437e-04, 9.99547303e-01, 4.87391571e-06],\n",
       "       [2.37319339e-02, 9.76256371e-01, 1.16529827e-05],\n",
       "       [3.42199579e-03, 9.96429980e-01, 1.48008156e-04],\n",
       "       [4.93764365e-03, 9.95012581e-01, 4.97229958e-05],\n",
       "       [1.04989512e-02, 9.88993108e-01, 5.07925404e-04],\n",
       "       [2.54309978e-02, 9.46545184e-01, 2.80238837e-02],\n",
       "       [1.55655406e-02, 9.75933373e-01, 8.50111153e-03],\n",
       "       [2.30834056e-02, 9.74007785e-01, 2.90875812e-03],\n",
       "       [1.68263391e-02, 9.81765747e-01, 1.40799652e-03],\n",
       "       [9.99276992e-04, 9.99000728e-01, 2.73616383e-08],\n",
       "       [3.09604732e-03, 9.52261984e-01, 4.46419418e-02],\n",
       "       [5.12345647e-03, 9.79141772e-01, 1.57348216e-02],\n",
       "       [1.33295236e-02, 9.84515667e-01, 2.15476565e-03],\n",
       "       [8.89058784e-03, 9.90040123e-01, 1.06928311e-03],\n",
       "       [9.68390610e-03, 9.89257872e-01, 1.05818524e-03],\n",
       "       [1.15651041e-02, 9.88383114e-01, 5.18114030e-05],\n",
       "       [2.38177385e-02, 9.76133585e-01, 4.86084464e-05],\n",
       "       [7.25411018e-03, 9.77325559e-01, 1.54203568e-02],\n",
       "       [1.19951535e-02, 9.87727761e-01, 2.77034356e-04],\n",
       "       [1.12161851e-02, 9.79531884e-01, 9.25201550e-03],\n",
       "       [7.89083261e-03, 9.91758406e-01, 3.50826420e-04],\n",
       "       [2.62744701e-03, 9.97367322e-01, 5.24788993e-06],\n",
       "       [2.96655707e-02, 9.69412088e-01, 9.22363077e-04],\n",
       "       [5.63874329e-03, 9.93738174e-01, 6.23117085e-04],\n",
       "       [6.56234613e-03, 9.93433833e-01, 3.73277862e-06],\n",
       "       [6.10826816e-03, 9.93885815e-01, 5.94871062e-06],\n",
       "       [4.34946502e-04, 9.99540210e-01, 2.48879242e-05],\n",
       "       [4.85478668e-03, 7.80881822e-01, 2.14263469e-01],\n",
       "       [8.98147281e-03, 9.90891993e-01, 1.26461251e-04],\n",
       "       [3.14635038e-03, 9.96850908e-01, 2.68174290e-06],\n",
       "       [6.66370429e-03, 9.88767803e-01, 4.56854841e-03],\n",
       "       [7.87586998e-03, 9.92096424e-01, 2.76351730e-05],\n",
       "       [4.28958330e-03, 9.95558143e-01, 1.52280350e-04],\n",
       "       [1.87907591e-02, 9.80895102e-01, 3.14173289e-04],\n",
       "       [3.44075472e-03, 9.96549249e-01, 9.94471429e-06],\n",
       "       [6.21291052e-04, 9.99268711e-01, 1.09975852e-04],\n",
       "       [3.84526676e-03, 9.96134400e-01, 2.03511499e-05],\n",
       "       [2.59725414e-02, 9.71116483e-01, 2.91096931e-03],\n",
       "       [1.44549478e-02, 9.83717084e-01, 1.82792742e-03],\n",
       "       [3.58456150e-02, 9.60483551e-01, 3.67086008e-03],\n",
       "       [2.45503690e-02, 9.45117414e-01, 3.03322095e-02],\n",
       "       [9.97197628e-03, 9.83379781e-01, 6.64823502e-03],\n",
       "       [2.51297111e-04, 9.99748290e-01, 4.12693538e-07],\n",
       "       [4.86693531e-02, 9.48070586e-01, 3.25997500e-03],\n",
       "       [3.18764001e-02, 7.11154044e-01, 2.56969482e-01],\n",
       "       [4.24585119e-03, 9.95166540e-01, 5.87615126e-04],\n",
       "       [5.01617091e-03, 9.94970500e-01, 1.34485963e-05],\n",
       "       [8.06941465e-02, 9.18944538e-01, 3.61391343e-04],\n",
       "       [1.80934947e-02, 9.81600165e-01, 3.06290342e-04],\n",
       "       [3.20587009e-02, 9.67599094e-01, 3.42212210e-04],\n",
       "       [4.65621939e-03, 9.95329499e-01, 1.43839488e-05],\n",
       "       [5.89421624e-03, 3.80375907e-02, 9.56068158e-01],\n",
       "       [2.24830993e-02, 9.76123393e-01, 1.39356812e-03],\n",
       "       [7.90408477e-02, 5.99923611e-01, 3.21035564e-01],\n",
       "       [2.80388407e-02, 9.71456528e-01, 5.04602736e-04],\n",
       "       [7.25454302e-04, 9.99269307e-01, 5.29658928e-06],\n",
       "       [3.40425968e-03, 9.96001184e-01, 5.94534155e-04],\n",
       "       [2.26723542e-03, 9.97619808e-01, 1.12939306e-04],\n",
       "       [2.38794163e-02, 9.74252701e-01, 1.86786870e-03],\n",
       "       [1.02020660e-02, 9.89437938e-01, 3.59958241e-04],\n",
       "       [6.62562018e-03, 9.88118351e-01, 5.25608845e-03],\n",
       "       [1.82587013e-03, 9.98173237e-01, 8.60533135e-07],\n",
       "       [2.03372780e-02, 9.06420588e-01, 7.32421353e-02],\n",
       "       [1.58548262e-02, 9.84122872e-01, 2.23171428e-05],\n",
       "       [1.56129096e-02, 9.84386384e-01, 7.33199442e-07],\n",
       "       [1.56857714e-03, 9.98430908e-01, 4.36836871e-07],\n",
       "       [7.75937513e-02, 9.22270179e-01, 1.36064104e-04],\n",
       "       [1.25741493e-02, 9.87088621e-01, 3.37278703e-04],\n",
       "       [2.27603093e-02, 9.75858450e-01, 1.38121203e-03],\n",
       "       [6.33780891e-03, 9.93652463e-01, 9.67310916e-06],\n",
       "       [1.68613298e-03, 9.98313189e-01, 7.00285341e-07],\n",
       "       [6.82987692e-03, 9.93165195e-01, 4.92870822e-06],\n",
       "       [8.40544293e-04, 9.99158740e-01, 7.07440734e-07],\n",
       "       [1.80326700e-02, 9.80599523e-01, 1.36777898e-03],\n",
       "       [3.63088846e-02, 9.61358964e-01, 2.33213091e-03],\n",
       "       [1.14480341e-02, 9.76729095e-02, 8.90879035e-01],\n",
       "       [1.75791997e-02, 1.54891729e-01, 8.27529132e-01],\n",
       "       [4.84695565e-03, 9.95144129e-01, 8.92675780e-06],\n",
       "       [3.74794826e-02, 9.60118473e-01, 2.40202504e-03],\n",
       "       [2.89690532e-02, 9.69061911e-01, 1.96911325e-03],\n",
       "       [5.42465039e-03, 9.93801177e-01, 7.74217770e-04],\n",
       "       [2.76318528e-02, 9.53373015e-01, 1.89952143e-02],\n",
       "       [2.12013256e-02, 9.72135842e-01, 6.66289404e-03],\n",
       "       [4.57317987e-03, 9.95426714e-01, 1.01803231e-07],\n",
       "       [5.63987019e-03, 9.94092643e-01, 2.67432770e-04],\n",
       "       [3.76801565e-02, 9.60176051e-01, 2.14372179e-03],\n",
       "       [3.74966785e-02, 7.78099358e-01, 1.84403986e-01],\n",
       "       [1.05138920e-01, 7.89718270e-01, 1.05142817e-01],\n",
       "       [1.56826600e-01, 8.42895687e-01, 2.77708808e-04],\n",
       "       [2.94178561e-03, 9.97056723e-01, 1.59539468e-06],\n",
       "       [2.45715212e-02, 9.74829972e-01, 5.98506653e-04],\n",
       "       [1.99644752e-02, 9.80020940e-01, 1.45762424e-05],\n",
       "       [4.20880206e-02, 9.57637191e-01, 2.74831546e-04],\n",
       "       [2.65283193e-02, 9.70954359e-01, 2.51729554e-03],\n",
       "       [1.83118749e-02, 9.81616378e-01, 7.17096045e-05],\n",
       "       [6.11295039e-03, 9.93801415e-01, 8.55958933e-05],\n",
       "       [2.11339118e-03, 9.97849464e-01, 3.71340975e-05],\n",
       "       [2.09738612e-02, 9.78955030e-01, 7.10313689e-05],\n",
       "       [1.77530886e-03, 9.97256100e-01, 9.68633802e-04],\n",
       "       [3.51671828e-03, 9.93976235e-01, 2.50703725e-03],\n",
       "       [7.86256045e-03, 9.92135644e-01, 1.82812937e-06],\n",
       "       [2.09926628e-02, 9.78920996e-01, 8.63553651e-05],\n",
       "       [7.08797667e-03, 6.87502623e-02, 9.24161792e-01],\n",
       "       [5.70120709e-03, 2.11406313e-02, 9.73158181e-01],\n",
       "       [7.13587040e-03, 4.06835079e-02, 9.52180564e-01],\n",
       "       [3.12456954e-03, 5.34063987e-02, 9.43469048e-01],\n",
       "       [4.50399099e-03, 4.99226712e-02, 9.45573270e-01],\n",
       "       [2.15056371e-02, 8.09523642e-01, 1.68970689e-01],\n",
       "       [3.92866228e-03, 3.84295844e-02, 9.57641780e-01],\n",
       "       [5.96003898e-04, 3.92553862e-03, 9.95478451e-01],\n",
       "       [5.01651037e-03, 4.25498523e-02, 9.52433646e-01],\n",
       "       [5.80610475e-03, 3.78687829e-02, 9.56325054e-01],\n",
       "       [1.19803026e-02, 2.01660573e-01, 7.86359131e-01],\n",
       "       [5.97179122e-03, 7.34700114e-02, 9.20558214e-01],\n",
       "       [4.94245440e-04, 6.82685804e-03, 9.92678881e-01],\n",
       "       [3.30321956e-03, 4.45689112e-02, 9.52127814e-01],\n",
       "       [2.43595359e-03, 2.59820372e-02, 9.71581995e-01],\n",
       "       [1.81537750e-03, 1.57328229e-02, 9.82451856e-01],\n",
       "       [6.42763600e-02, 7.26988852e-01, 2.08734781e-01],\n",
       "       [7.16076791e-03, 4.93568815e-02, 9.43482339e-01],\n",
       "       [4.32858104e-03, 5.03233075e-02, 9.45348144e-01],\n",
       "       [5.63908322e-03, 3.72030288e-02, 9.57157850e-01],\n",
       "       [3.56736453e-03, 6.41577169e-02, 9.32274938e-01],\n",
       "       [6.06738124e-03, 3.03713549e-02, 9.63561237e-01],\n",
       "       [5.83836576e-03, 2.86365896e-02, 9.65525031e-01],\n",
       "       [2.02357396e-03, 2.00346503e-02, 9.77941811e-01],\n",
       "       [1.75928068e-03, 1.43009070e-02, 9.83939767e-01],\n",
       "       [9.23249032e-03, 4.20598648e-02, 9.48707700e-01],\n",
       "       [3.48457345e-03, 1.90813895e-02, 9.77434099e-01],\n",
       "       [3.32171354e-03, 2.41812896e-02, 9.72496927e-01],\n",
       "       [1.48272607e-02, 1.11598179e-01, 8.73574555e-01],\n",
       "       [2.30671279e-03, 3.09870914e-02, 9.66706276e-01],\n",
       "       [7.67964264e-03, 4.58523855e-02, 9.46467936e-01],\n",
       "       [1.43961430e-01, 7.43007362e-01, 1.13031246e-01],\n",
       "       [3.54460999e-03, 2.95983944e-02, 9.66857016e-01],\n",
       "       [4.05691471e-03, 4.39965948e-02, 9.51946497e-01],\n",
       "       [7.73919234e-03, 4.21649702e-02, 9.50095832e-01],\n",
       "       [8.01052339e-03, 2.51101255e-02, 9.66879427e-01],\n",
       "       [6.99356012e-03, 5.36881201e-02, 9.39318240e-01],\n",
       "       [1.35638900e-02, 6.16179220e-02, 9.24818218e-01],\n",
       "       [5.29157137e-03, 5.23226112e-02, 9.42385852e-01],\n",
       "       [3.24179674e-03, 3.84738520e-02, 9.58284318e-01],\n",
       "       [2.69618258e-03, 2.64905393e-02, 9.70813274e-01],\n",
       "       [3.52195278e-02, 2.86888629e-01, 6.77891791e-01]], dtype=float32)"
      ]
     },
     "execution_count": 31,
     "metadata": {},
     "output_type": "execute_result"
    }
   ],
   "source": [
    "predictions = model.predict(test_generator)\n",
    "predictions"
   ]
  },
  {
   "cell_type": "code",
   "execution_count": 32,
   "id": "ea6e1819-9fa4-453c-b751-c70832526e2d",
   "metadata": {},
   "outputs": [],
   "source": [
    "def plot_loss_and_accuracy(history):\n",
    "    history_df = pd.DataFrame(history)\n",
    "    fig, ax = plt.subplots(1,2, figsize=(12, 6))\n",
    "    \n",
    "    history_df.loc[0:, ['loss', 'val_loss']].plot(ax=ax[0])\n",
    "    ax[0].set(xlabel = 'epoch number', ylabel = 'loss')\n",
    "\n",
    "    history_df.loc[0:, ['accuracy', 'val_accuracy']].plot(ax=ax[1])\n",
    "    ax[1].set(xlabel = 'epoch number', ylabel = 'accuracy')"
   ]
  },
  {
   "cell_type": "code",
   "execution_count": 33,
   "id": "b5e362a5-a2ae-42f6-8666-b303bd794893",
   "metadata": {},
   "outputs": [
    {
     "data": {
      "image/png": "[encoded data removed]",
      "text/plain": [
       "<Figure size 1200x600 with 2 Axes>"
      ]
     },
     "metadata": {},
     "output_type": "display_data"
    }
   ],
   "source": [
    "plot_loss_and_accuracy(model_history.history)"
   ]
  },
  {
   "cell_type": "code",
   "execution_count": 34,
   "id": "2a45c22a-04ca-42de-9a71-b8759bf0d320",
   "metadata": {},
   "outputs": [
    {
     "name": "stdout",
     "output_type": "stream",
     "text": [
      "31/31 [==============================] - 0s 4ms/step\n",
      "with_mask || with_mask\\maksssksksss52_(np.int64(41), np.int64(23)).png\n"
     ]
    },
    {
     "data": {
      "image/png": "[encoded data removed]",
      "text/plain": [
       "<Figure size 640x480 with 1 Axes>"
      ]
     },
     "metadata": {},
     "output_type": "display_data"
    }
   ],
   "source": [
    "paths = test_generator.filenames\n",
    "y_pred = model.predict(test_generator).argmax(axis=1)\n",
    "classes = test_generator.class_indices\n",
    "\n",
    "a_img_rand = np.random.randint(0,len(paths))\n",
    "img = cv2.imread(os.path.join(output_data_path,'test', paths[a_img_rand]))      \n",
    "colored_img = cv2.cvtColor(img, cv2.COLOR_RGB2BGR)\n",
    "\n",
    "plt.imshow(colored_img)\n",
    "true_label = paths[a_img_rand].split('/')[0]\n",
    "predicted_label = list(classes)[y_pred[a_img_rand]]\n",
    "print(f'{predicted_label} || {true_label}')"
   ]
  },
  {
   "cell_type": "code",
   "execution_count": 35,
   "id": "9f078bb0-074e-4e06-9110-b53384830449",
   "metadata": {},
   "outputs": [],
   "source": [
    "def evaluation(y, y_hat, title = 'Confusion Matrix'):\n",
    "    cm = confusion_matrix(y, y_hat)\n",
    "    sns.heatmap(cm,  cmap= 'PuBu', annot=True, fmt='g', annot_kws={'size':20})\n",
    "    plt.xlabel('predicted', fontsize=18)\n",
    "    plt.ylabel('actual', fontsize=18)\n",
    "    plt.title(title, fontsize=18)\n",
    "    \n",
    "    plt.show()"
   ]
  },
  {
   "cell_type": "code",
   "execution_count": 36,
   "id": "e95bf01b-7ed4-474e-91ff-a00b68b8a4f8",
   "metadata": {},
   "outputs": [
    {
     "name": "stdout",
     "output_type": "stream",
     "text": [
      "31/31 [==============================] - 0s 5ms/step\n"
     ]
    },
    {
     "data": {
      "image/png": "[encoded data removed]",
      "text/plain": [
       "<Figure size 640x480 with 2 Axes>"
      ]
     },
     "metadata": {},
     "output_type": "display_data"
    }
   ],
   "source": [
    "y_true = test_generator.labels\n",
    "y_pred = model.predict(test_generator).argmax(axis=1) # Predict prob and get Class Indices\n",
    "\n",
    "evaluation(y_true, y_pred)\n"
   ]
  },
  {
   "cell_type": "code",
   "execution_count": 37,
   "id": "1a0c5b6d-734d-45f6-9d56-b7fce4fcada9",
   "metadata": {},
   "outputs": [
    {
     "data": {
      "text/plain": [
       "{'mask_weared_incorrect': 0, 'with_mask': 1, 'without_mask': 2}"
      ]
     },
     "metadata": {},
     "output_type": "display_data"
    },
    {
     "data": {
      "text/plain": [
       "array([  1, 196,  46], dtype=int64)"
      ]
     },
     "execution_count": 37,
     "metadata": {},
     "output_type": "execute_result"
    }
   ],
   "source": [
    "display(classes)\n",
    "np.bincount(y_pred)"
   ]
  },
  {
   "cell_type": "code",
   "execution_count": 38,
   "id": "d699c0fd-41ed-44b3-ae3d-a35e0f07f855",
   "metadata": {},
   "outputs": [],
   "source": [
    "def predict_single_image(model, image_path, class_indices, target_size=(35, 35)):\n",
    "    # Load and preprocess the image\n",
    "    img = Image.open(image_path).convert(\"RGB\")  # Ensure 3 channels\n",
    "    img = img.resize(target_size)  # Resize image\n",
    "    img_array = np.array(img) / 255.0  # Normalize to [0,1]\n",
    "    img_array = np.expand_dims(img_array, axis=0)  # Add batch dimension\n",
    "\n",
    "    # Make predictions\n",
    "    prediction = model.predict(img_array)\n",
    "    predicted_class = np.argmax(prediction, axis=1)[0]\n",
    "    class_labels = {v: k for k, v in class_indices.items()}  # Reverse class_indices\n",
    "    predicted_label = class_labels[predicted_class]\n",
    "\n",
    "    # Display result\n",
    "    plt.imshow(img)\n",
    "    plt.axis('off')\n",
    "    plt.title(f'Predicted: {predicted_label}')\n",
    "    plt.show()\n",
    "\n",
    "    print(f\"Prediction Probabilities: {prediction[0]}\")\n",
    "    print(f\"Predicted Class: {predicted_label}\")\n"
   ]
  },
  {
   "cell_type": "code",
   "execution_count": 39,
   "id": "f1193472-4ce8-4510-a0a4-0486ac6c03fb",
   "metadata": {},
   "outputs": [
    {
     "name": "stdout",
     "output_type": "stream",
     "text": [
      "1/1 [==============================] - 0s 54ms/step\n"
     ]
    },
    {
     "data": {
      "image/png": "[encoded data removed]",
      "text/plain": [
       "<Figure size 640x480 with 1 Axes>"
      ]
     },
     "metadata": {},
     "output_type": "display_data"
    },
    {
     "name": "stdout",
     "output_type": "stream",
     "text": [
      "Prediction Probabilities: [0.00195728 0.02391765 0.9741251 ]\n",
      "Predicted Class: without_mask\n"
     ]
    }
   ],
   "source": [
    "# Path to your single image\n",
    "image_path = r\"K:\\pics\\IMG20241217215358.jpg\"\n",
    "\n",
    "# Predict the result\n",
    "predict_single_image(model, image_path, test_generator.class_indices)\n"
   ]
  },
  {
   "cell_type": "code",
   "execution_count": 40,
   "id": "03dc3c1c-dccf-44a8-abfa-36497a87a91e",
   "metadata": {},
   "outputs": [
    {
     "name": "stdout",
     "output_type": "stream",
     "text": [
      "1/1 [==============================] - 0s 14ms/step\n"
     ]
    },
    {
     "data": {
      "image/png": "[encoded data removed]",
      "text/plain": [
       "<Figure size 640x480 with 1 Axes>"
      ]
     },
     "metadata": {},
     "output_type": "display_data"
    },
    {
     "name": "stdout",
     "output_type": "stream",
     "text": [
      "Prediction Probabilities: [0.09837674 0.6640737  0.2375496 ]\n",
      "Predicted Class: with_mask\n"
     ]
    }
   ],
   "source": [
    "# Path to your single image\n",
    "image_path = r\"K:\\pics\\IMG-20241217-WA0012.jpg\"\n",
    "\n",
    "# Predict the result\n",
    "predict_single_image(model, image_path, test_generator.class_indices)\n"
   ]
  },
  {
   "cell_type": "code",
   "execution_count": 41,
   "id": "76ff9f38-b1f2-461a-8f38-9b557e26256f",
   "metadata": {},
   "outputs": [
    {
     "name": "stdout",
     "output_type": "stream",
     "text": [
      "Model saved successfully to saved_models/mask_detection_model.h5\n"
     ]
    }
   ],
   "source": [
    "# Save the trained model\n",
    "# Make sure the 'saved_models' directory exists in your project root\n",
    "import os\n",
    "if not os.path.exists('saved_models'):\n",
    "    os.makedirs('saved_models')\n",
    "model.save('saved_models/mask_detection_model.h5')\n",
    "print(\"Model saved successfully to saved_models/mask_detection_model.h5\")"
   ]
  }
 ],
 "metadata": {
  "kernelspec": {
   "display_name": "venv",
   "language": "python",
   "name": "python3"
  },
  "language_info": {
   "codemirror_mode": {
    "name": "ipython",
    "version": 3
   },
   "file_extension": ".py",
   "mimetype": "text/x-python",
   "name": "python",
   "nbconvert_exporter": "python",
   "pygments_lexer": "ipython3",
   "version": "3.11.9"
  }
 },
 "nbformat": 4,
 "nbformat_minor": 5
}
